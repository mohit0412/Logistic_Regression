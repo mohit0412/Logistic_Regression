{
 "cells": [
  {
   "cell_type": "code",
   "execution_count": 31,
   "metadata": {
    "collapsed": true
   },
   "outputs": [],
   "source": [
    "import pandas as pd"
   ]
  },
  {
   "cell_type": "markdown",
   "metadata": {},
   "source": [
    "## loading data from file"
   ]
  },
  {
   "cell_type": "code",
   "execution_count": 32,
   "metadata": {},
   "outputs": [
    {
     "data": {
      "text/html": [
       "<div>\n",
       "<style scoped>\n",
       "    .dataframe tbody tr th:only-of-type {\n",
       "        vertical-align: middle;\n",
       "    }\n",
       "\n",
       "    .dataframe tbody tr th {\n",
       "        vertical-align: top;\n",
       "    }\n",
       "\n",
       "    .dataframe thead th {\n",
       "        text-align: right;\n",
       "    }\n",
       "</style>\n",
       "<table border=\"1\" class=\"dataframe\">\n",
       "  <thead>\n",
       "    <tr style=\"text-align: right;\">\n",
       "      <th></th>\n",
       "      <th>Unnamed: 0</th>\n",
       "      <th>label</th>\n",
       "      <th>msisdn</th>\n",
       "      <th>aon</th>\n",
       "      <th>daily_decr30</th>\n",
       "      <th>daily_decr90</th>\n",
       "      <th>rental30</th>\n",
       "      <th>rental90</th>\n",
       "      <th>last_rech_date_ma</th>\n",
       "      <th>last_rech_date_da</th>\n",
       "      <th>...</th>\n",
       "      <th>maxamnt_loans30</th>\n",
       "      <th>medianamnt_loans30</th>\n",
       "      <th>cnt_loans90</th>\n",
       "      <th>amnt_loans90</th>\n",
       "      <th>maxamnt_loans90</th>\n",
       "      <th>medianamnt_loans90</th>\n",
       "      <th>payback30</th>\n",
       "      <th>payback90</th>\n",
       "      <th>pcircle</th>\n",
       "      <th>pdate</th>\n",
       "    </tr>\n",
       "  </thead>\n",
       "  <tbody>\n",
       "    <tr>\n",
       "      <th>0</th>\n",
       "      <td>1</td>\n",
       "      <td>0</td>\n",
       "      <td>21408I70789</td>\n",
       "      <td>272.0</td>\n",
       "      <td>3055.050000</td>\n",
       "      <td>3065.150000</td>\n",
       "      <td>220.13</td>\n",
       "      <td>260.13</td>\n",
       "      <td>2.0</td>\n",
       "      <td>0.0</td>\n",
       "      <td>...</td>\n",
       "      <td>6.0</td>\n",
       "      <td>0.0</td>\n",
       "      <td>2.0</td>\n",
       "      <td>12</td>\n",
       "      <td>6</td>\n",
       "      <td>0.0</td>\n",
       "      <td>29.000000</td>\n",
       "      <td>29.000000</td>\n",
       "      <td>UPW</td>\n",
       "      <td>7/20/2016</td>\n",
       "    </tr>\n",
       "    <tr>\n",
       "      <th>1</th>\n",
       "      <td>2</td>\n",
       "      <td>1</td>\n",
       "      <td>76462I70374</td>\n",
       "      <td>712.0</td>\n",
       "      <td>12122.000000</td>\n",
       "      <td>12124.750000</td>\n",
       "      <td>3691.26</td>\n",
       "      <td>3691.26</td>\n",
       "      <td>20.0</td>\n",
       "      <td>0.0</td>\n",
       "      <td>...</td>\n",
       "      <td>12.0</td>\n",
       "      <td>0.0</td>\n",
       "      <td>1.0</td>\n",
       "      <td>12</td>\n",
       "      <td>12</td>\n",
       "      <td>0.0</td>\n",
       "      <td>0.000000</td>\n",
       "      <td>0.000000</td>\n",
       "      <td>UPW</td>\n",
       "      <td>8/10/2016</td>\n",
       "    </tr>\n",
       "    <tr>\n",
       "      <th>2</th>\n",
       "      <td>3</td>\n",
       "      <td>1</td>\n",
       "      <td>17943I70372</td>\n",
       "      <td>535.0</td>\n",
       "      <td>1398.000000</td>\n",
       "      <td>1398.000000</td>\n",
       "      <td>900.13</td>\n",
       "      <td>900.13</td>\n",
       "      <td>3.0</td>\n",
       "      <td>0.0</td>\n",
       "      <td>...</td>\n",
       "      <td>6.0</td>\n",
       "      <td>0.0</td>\n",
       "      <td>1.0</td>\n",
       "      <td>6</td>\n",
       "      <td>6</td>\n",
       "      <td>0.0</td>\n",
       "      <td>0.000000</td>\n",
       "      <td>0.000000</td>\n",
       "      <td>UPW</td>\n",
       "      <td>8/19/2016</td>\n",
       "    </tr>\n",
       "    <tr>\n",
       "      <th>3</th>\n",
       "      <td>4</td>\n",
       "      <td>1</td>\n",
       "      <td>55773I70781</td>\n",
       "      <td>241.0</td>\n",
       "      <td>21.228000</td>\n",
       "      <td>21.228000</td>\n",
       "      <td>159.42</td>\n",
       "      <td>159.42</td>\n",
       "      <td>41.0</td>\n",
       "      <td>0.0</td>\n",
       "      <td>...</td>\n",
       "      <td>6.0</td>\n",
       "      <td>0.0</td>\n",
       "      <td>2.0</td>\n",
       "      <td>12</td>\n",
       "      <td>6</td>\n",
       "      <td>0.0</td>\n",
       "      <td>0.000000</td>\n",
       "      <td>0.000000</td>\n",
       "      <td>UPW</td>\n",
       "      <td>6/6/2016</td>\n",
       "    </tr>\n",
       "    <tr>\n",
       "      <th>4</th>\n",
       "      <td>5</td>\n",
       "      <td>1</td>\n",
       "      <td>03813I82730</td>\n",
       "      <td>947.0</td>\n",
       "      <td>150.619333</td>\n",
       "      <td>150.619333</td>\n",
       "      <td>1098.90</td>\n",
       "      <td>1098.90</td>\n",
       "      <td>4.0</td>\n",
       "      <td>0.0</td>\n",
       "      <td>...</td>\n",
       "      <td>6.0</td>\n",
       "      <td>0.0</td>\n",
       "      <td>7.0</td>\n",
       "      <td>42</td>\n",
       "      <td>6</td>\n",
       "      <td>0.0</td>\n",
       "      <td>2.333333</td>\n",
       "      <td>2.333333</td>\n",
       "      <td>UPW</td>\n",
       "      <td>6/22/2016</td>\n",
       "    </tr>\n",
       "  </tbody>\n",
       "</table>\n",
       "<p>5 rows × 37 columns</p>\n",
       "</div>"
      ],
      "text/plain": [
       "   Unnamed: 0  label       msisdn    aon  daily_decr30  daily_decr90  \\\n",
       "0           1      0  21408I70789  272.0   3055.050000   3065.150000   \n",
       "1           2      1  76462I70374  712.0  12122.000000  12124.750000   \n",
       "2           3      1  17943I70372  535.0   1398.000000   1398.000000   \n",
       "3           4      1  55773I70781  241.0     21.228000     21.228000   \n",
       "4           5      1  03813I82730  947.0    150.619333    150.619333   \n",
       "\n",
       "   rental30  rental90  last_rech_date_ma  last_rech_date_da  ...  \\\n",
       "0    220.13    260.13                2.0                0.0  ...   \n",
       "1   3691.26   3691.26               20.0                0.0  ...   \n",
       "2    900.13    900.13                3.0                0.0  ...   \n",
       "3    159.42    159.42               41.0                0.0  ...   \n",
       "4   1098.90   1098.90                4.0                0.0  ...   \n",
       "\n",
       "   maxamnt_loans30  medianamnt_loans30  cnt_loans90  amnt_loans90  \\\n",
       "0              6.0                 0.0          2.0            12   \n",
       "1             12.0                 0.0          1.0            12   \n",
       "2              6.0                 0.0          1.0             6   \n",
       "3              6.0                 0.0          2.0            12   \n",
       "4              6.0                 0.0          7.0            42   \n",
       "\n",
       "   maxamnt_loans90  medianamnt_loans90  payback30  payback90  pcircle  \\\n",
       "0                6                 0.0  29.000000  29.000000      UPW   \n",
       "1               12                 0.0   0.000000   0.000000      UPW   \n",
       "2                6                 0.0   0.000000   0.000000      UPW   \n",
       "3                6                 0.0   0.000000   0.000000      UPW   \n",
       "4                6                 0.0   2.333333   2.333333      UPW   \n",
       "\n",
       "       pdate  \n",
       "0  7/20/2016  \n",
       "1  8/10/2016  \n",
       "2  8/19/2016  \n",
       "3   6/6/2016  \n",
       "4  6/22/2016  \n",
       "\n",
       "[5 rows x 37 columns]"
      ]
     },
     "execution_count": 32,
     "metadata": {},
     "output_type": "execute_result"
    }
   ],
   "source": [
    "df=pd.read_csv('sample_data_intw.csv', sep=',')\n",
    "df.head()"
   ]
  },
  {
   "cell_type": "code",
   "execution_count": 33,
   "metadata": {},
   "outputs": [
    {
     "data": {
      "text/plain": [
       "(209593,)"
      ]
     },
     "execution_count": 33,
     "metadata": {},
     "output_type": "execute_result"
    }
   ],
   "source": [
    "df['label'].shape"
   ]
  },
  {
   "cell_type": "raw",
   "metadata": {},
   "source": [
    "#!pip install seaborn\n",
    "#!pip install matplotlib"
   ]
  },
  {
   "cell_type": "code",
   "execution_count": 34,
   "metadata": {
    "collapsed": true
   },
   "outputs": [],
   "source": [
    "import matplotlib. pyplot as plt "
   ]
  },
  {
   "cell_type": "code",
   "execution_count": 35,
   "metadata": {},
   "outputs": [
    {
     "data": {
      "image/png": "[encoded data removed]",
      "text/plain": [
       "<Figure size 360x432 with 1 Axes>"
      ]
     },
     "metadata": {},
     "output_type": "display_data"
    }
   ],
   "source": [
    "import seaborn as sns\n",
    "fig = plt.figure(figsize=(5,6))\n",
    "ax=sns.countplot(df['label'])\n",
    "plt.show()"
   ]
  },
  {
   "cell_type": "code",
   "execution_count": 36,
   "metadata": {},
   "outputs": [
    {
     "data": {
      "text/plain": [
       "1    183431\n",
       "0     26162\n",
       "Name: label, dtype: int64"
      ]
     },
     "execution_count": 36,
     "metadata": {},
     "output_type": "execute_result"
    }
   ],
   "source": [
    "df['label'].value_counts()"
   ]
  },
  {
   "cell_type": "raw",
   "metadata": {
    "collapsed": true
   },
   "source": [
    "# number of positive samples are more than negetive sample"
   ]
  },
  {
   "cell_type": "code",
   "execution_count": 37,
   "metadata": {},
   "outputs": [
    {
     "data": {
      "text/plain": [
       "(209593, 37)"
      ]
     },
     "execution_count": 37,
     "metadata": {},
     "output_type": "execute_result"
    }
   ],
   "source": [
    "df.shape"
   ]
  },
  {
   "cell_type": "code",
   "execution_count": 38,
   "metadata": {},
   "outputs": [],
   "source": [
    "# droping rows to make data equal"
   ]
  },
  {
   "cell_type": "code",
   "execution_count": 39,
   "metadata": {},
   "outputs": [],
   "source": [
    "df.drop(df[df['label']==1].index[40000:],inplace=True)"
   ]
  },
  {
   "cell_type": "code",
   "execution_count": 40,
   "metadata": {},
   "outputs": [
    {
     "data": {
      "text/plain": [
       "(66162, 37)"
      ]
     },
     "execution_count": 40,
     "metadata": {},
     "output_type": "execute_result"
    }
   ],
   "source": [
    "df.shape"
   ]
  },
  {
   "cell_type": "code",
   "execution_count": 41,
   "metadata": {},
   "outputs": [
    {
     "data": {
      "text/plain": [
       "(66162,)"
      ]
     },
     "execution_count": 41,
     "metadata": {},
     "output_type": "execute_result"
    }
   ],
   "source": [
    "y=df['label']\n",
    "y.shape"
   ]
  },
  {
   "cell_type": "raw",
   "metadata": {},
   "source": [
    "# droping coloumns wich do not effect prediction"
   ]
  },
  {
   "cell_type": "code",
   "execution_count": 42,
   "metadata": {},
   "outputs": [
    {
     "data": {
      "text/plain": [
       "count     66162\n",
       "unique        1\n",
       "top         UPW\n",
       "freq      66162\n",
       "Name: pcircle, dtype: object"
      ]
     },
     "execution_count": 42,
     "metadata": {},
     "output_type": "execute_result"
    }
   ],
   "source": [
    "df['pcircle'].describe()"
   ]
  },
  {
   "cell_type": "code",
   "execution_count": 43,
   "metadata": {},
   "outputs": [
    {
     "data": {
      "text/plain": [
       "count        66162\n",
       "unique          82\n",
       "top       7/5/2016\n",
       "freq          1120\n",
       "Name: pdate, dtype: object"
      ]
     },
     "execution_count": 43,
     "metadata": {},
     "output_type": "execute_result"
    }
   ],
   "source": [
    "df['pdate'].describe()"
   ]
  },
  {
   "cell_type": "code",
   "execution_count": 44,
   "metadata": {},
   "outputs": [
    {
     "data": {
      "text/plain": [
       "(66162, 33)"
      ]
     },
     "execution_count": 44,
     "metadata": {},
     "output_type": "execute_result"
    }
   ],
   "source": [
    "drop_list=['msisdn','Unnamed: 0','pcircle','pdate']\n",
    "x=df.drop(labels=drop_list,axis=1)\n",
    "x.shape"
   ]
  },
  {
   "cell_type": "code",
   "execution_count": 45,
   "metadata": {},
   "outputs": [
    {
     "data": {
      "text/html": [
       "<div>\n",
       "<style scoped>\n",
       "    .dataframe tbody tr th:only-of-type {\n",
       "        vertical-align: middle;\n",
       "    }\n",
       "\n",
       "    .dataframe tbody tr th {\n",
       "        vertical-align: top;\n",
       "    }\n",
       "\n",
       "    .dataframe thead th {\n",
       "        text-align: right;\n",
       "    }\n",
       "</style>\n",
       "<table border=\"1\" class=\"dataframe\">\n",
       "  <thead>\n",
       "    <tr style=\"text-align: right;\">\n",
       "      <th></th>\n",
       "      <th>label</th>\n",
       "      <th>aon</th>\n",
       "      <th>daily_decr30</th>\n",
       "      <th>daily_decr90</th>\n",
       "      <th>rental30</th>\n",
       "      <th>rental90</th>\n",
       "      <th>last_rech_date_ma</th>\n",
       "      <th>last_rech_date_da</th>\n",
       "      <th>last_rech_amt_ma</th>\n",
       "      <th>cnt_ma_rech30</th>\n",
       "      <th>fr_ma_rech30</th>\n",
       "      <th>sumamnt_ma_rech30</th>\n",
       "      <th>medianamnt_ma_rech30</th>\n",
       "      <th>medianmarechprebal30</th>\n",
       "      <th>cnt_ma_rech90</th>\n",
       "    </tr>\n",
       "  </thead>\n",
       "  <tbody>\n",
       "    <tr>\n",
       "      <th>count</th>\n",
       "      <td>66162.000000</td>\n",
       "      <td>66162.00000</td>\n",
       "      <td>66162.000000</td>\n",
       "      <td>66162.000000</td>\n",
       "      <td>66162.000000</td>\n",
       "      <td>66162.000000</td>\n",
       "      <td>66162.000000</td>\n",
       "      <td>66162.000000</td>\n",
       "      <td>66162.000000</td>\n",
       "      <td>66162.000000</td>\n",
       "      <td>66162.000000</td>\n",
       "      <td>66162.000000</td>\n",
       "      <td>66162.000000</td>\n",
       "      <td>66162.000000</td>\n",
       "      <td>66162.000000</td>\n",
       "    </tr>\n",
       "    <tr>\n",
       "      <th>mean</th>\n",
       "      <td>0.604577</td>\n",
       "      <td>8578.58440</td>\n",
       "      <td>4090.684458</td>\n",
       "      <td>4570.708472</td>\n",
       "      <td>2494.315406</td>\n",
       "      <td>3140.488705</td>\n",
       "      <td>3724.375053</td>\n",
       "      <td>3604.313741</td>\n",
       "      <td>1812.855672</td>\n",
       "      <td>3.147668</td>\n",
       "      <td>3638.220663</td>\n",
       "      <td>6038.005653</td>\n",
       "      <td>1571.825897</td>\n",
       "      <td>3900.055656</td>\n",
       "      <td>4.927783</td>\n",
       "    </tr>\n",
       "    <tr>\n",
       "      <th>std</th>\n",
       "      <td>0.488945</td>\n",
       "      <td>78285.31827</td>\n",
       "      <td>7978.348644</td>\n",
       "      <td>9400.253375</td>\n",
       "      <td>4161.877291</td>\n",
       "      <td>5419.783549</td>\n",
       "      <td>53570.659721</td>\n",
       "      <td>53080.631476</td>\n",
       "      <td>2324.833255</td>\n",
       "      <td>3.865128</td>\n",
       "      <td>52639.385819</td>\n",
       "      <td>9589.179977</td>\n",
       "      <td>2028.018130</td>\n",
       "      <td>54677.922086</td>\n",
       "      <td>6.523238</td>\n",
       "    </tr>\n",
       "    <tr>\n",
       "      <th>min</th>\n",
       "      <td>0.000000</td>\n",
       "      <td>-48.00000</td>\n",
       "      <td>-93.012667</td>\n",
       "      <td>-93.012667</td>\n",
       "      <td>-23737.140000</td>\n",
       "      <td>-24720.580000</td>\n",
       "      <td>-29.000000</td>\n",
       "      <td>-27.000000</td>\n",
       "      <td>0.000000</td>\n",
       "      <td>0.000000</td>\n",
       "      <td>0.000000</td>\n",
       "      <td>0.000000</td>\n",
       "      <td>0.000000</td>\n",
       "      <td>-200.000000</td>\n",
       "      <td>0.000000</td>\n",
       "    </tr>\n",
       "    <tr>\n",
       "      <th>25%</th>\n",
       "      <td>0.000000</td>\n",
       "      <td>220.00000</td>\n",
       "      <td>18.600000</td>\n",
       "      <td>18.895000</td>\n",
       "      <td>199.120000</td>\n",
       "      <td>206.992500</td>\n",
       "      <td>1.000000</td>\n",
       "      <td>0.000000</td>\n",
       "      <td>770.000000</td>\n",
       "      <td>1.000000</td>\n",
       "      <td>0.000000</td>\n",
       "      <td>770.000000</td>\n",
       "      <td>770.000000</td>\n",
       "      <td>0.200000</td>\n",
       "      <td>1.000000</td>\n",
       "    </tr>\n",
       "    <tr>\n",
       "      <th>50%</th>\n",
       "      <td>1.000000</td>\n",
       "      <td>487.00000</td>\n",
       "      <td>691.151000</td>\n",
       "      <td>700.000000</td>\n",
       "      <td>922.750000</td>\n",
       "      <td>1104.350000</td>\n",
       "      <td>3.000000</td>\n",
       "      <td>0.000000</td>\n",
       "      <td>1539.000000</td>\n",
       "      <td>2.000000</td>\n",
       "      <td>1.000000</td>\n",
       "      <td>3080.000000</td>\n",
       "      <td>1154.500000</td>\n",
       "      <td>25.000000</td>\n",
       "      <td>3.000000</td>\n",
       "    </tr>\n",
       "    <tr>\n",
       "      <th>75%</th>\n",
       "      <td>1.000000</td>\n",
       "      <td>938.00000</td>\n",
       "      <td>4749.869250</td>\n",
       "      <td>4930.500000</td>\n",
       "      <td>2997.002500</td>\n",
       "      <td>3704.205000</td>\n",
       "      <td>8.000000</td>\n",
       "      <td>0.000000</td>\n",
       "      <td>1924.000000</td>\n",
       "      <td>4.000000</td>\n",
       "      <td>5.000000</td>\n",
       "      <td>7896.000000</td>\n",
       "      <td>1547.000000</td>\n",
       "      <td>68.220000</td>\n",
       "      <td>7.000000</td>\n",
       "    </tr>\n",
       "    <tr>\n",
       "      <th>max</th>\n",
       "      <td>1.000000</td>\n",
       "      <td>997542.30540</td>\n",
       "      <td>167089.000000</td>\n",
       "      <td>259525.000000</td>\n",
       "      <td>104265.760000</td>\n",
       "      <td>169392.920000</td>\n",
       "      <td>997676.760100</td>\n",
       "      <td>999171.809400</td>\n",
       "      <td>55000.000000</td>\n",
       "      <td>84.000000</td>\n",
       "      <td>997387.033800</td>\n",
       "      <td>810096.000000</td>\n",
       "      <td>55000.000000</td>\n",
       "      <td>995816.957800</td>\n",
       "      <td>172.000000</td>\n",
       "    </tr>\n",
       "  </tbody>\n",
       "</table>\n",
       "</div>"
      ],
      "text/plain": [
       "              label           aon   daily_decr30   daily_decr90  \\\n",
       "count  66162.000000   66162.00000   66162.000000   66162.000000   \n",
       "mean       0.604577    8578.58440    4090.684458    4570.708472   \n",
       "std        0.488945   78285.31827    7978.348644    9400.253375   \n",
       "min        0.000000     -48.00000     -93.012667     -93.012667   \n",
       "25%        0.000000     220.00000      18.600000      18.895000   \n",
       "50%        1.000000     487.00000     691.151000     700.000000   \n",
       "75%        1.000000     938.00000    4749.869250    4930.500000   \n",
       "max        1.000000  997542.30540  167089.000000  259525.000000   \n",
       "\n",
       "            rental30       rental90  last_rech_date_ma  last_rech_date_da  \\\n",
       "count   66162.000000   66162.000000       66162.000000       66162.000000   \n",
       "mean     2494.315406    3140.488705        3724.375053        3604.313741   \n",
       "std      4161.877291    5419.783549       53570.659721       53080.631476   \n",
       "min    -23737.140000  -24720.580000         -29.000000         -27.000000   \n",
       "25%       199.120000     206.992500           1.000000           0.000000   \n",
       "50%       922.750000    1104.350000           3.000000           0.000000   \n",
       "75%      2997.002500    3704.205000           8.000000           0.000000   \n",
       "max    104265.760000  169392.920000      997676.760100      999171.809400   \n",
       "\n",
       "       last_rech_amt_ma  cnt_ma_rech30   fr_ma_rech30  sumamnt_ma_rech30  \\\n",
       "count      66162.000000   66162.000000   66162.000000       66162.000000   \n",
       "mean        1812.855672       3.147668    3638.220663        6038.005653   \n",
       "std         2324.833255       3.865128   52639.385819        9589.179977   \n",
       "min            0.000000       0.000000       0.000000           0.000000   \n",
       "25%          770.000000       1.000000       0.000000         770.000000   \n",
       "50%         1539.000000       2.000000       1.000000        3080.000000   \n",
       "75%         1924.000000       4.000000       5.000000        7896.000000   \n",
       "max        55000.000000      84.000000  997387.033800      810096.000000   \n",
       "\n",
       "       medianamnt_ma_rech30  medianmarechprebal30  cnt_ma_rech90  \n",
       "count          66162.000000          66162.000000   66162.000000  \n",
       "mean            1571.825897           3900.055656       4.927783  \n",
       "std             2028.018130          54677.922086       6.523238  \n",
       "min                0.000000           -200.000000       0.000000  \n",
       "25%              770.000000              0.200000       1.000000  \n",
       "50%             1154.500000             25.000000       3.000000  \n",
       "75%             1547.000000             68.220000       7.000000  \n",
       "max            55000.000000         995816.957800     172.000000  "
      ]
     },
     "execution_count": 45,
     "metadata": {},
     "output_type": "execute_result"
    }
   ],
   "source": [
    "x.iloc[:,0:15].describe()"
   ]
  },
  {
   "cell_type": "code",
   "execution_count": 46,
   "metadata": {
    "collapsed": true
   },
   "outputs": [],
   "source": [
    "# last_rech_date_da , "
   ]
  },
  {
   "cell_type": "code",
   "execution_count": 47,
   "metadata": {},
   "outputs": [
    {
     "data": {
      "text/html": [
       "<div>\n",
       "<style scoped>\n",
       "    .dataframe tbody tr th:only-of-type {\n",
       "        vertical-align: middle;\n",
       "    }\n",
       "\n",
       "    .dataframe tbody tr th {\n",
       "        vertical-align: top;\n",
       "    }\n",
       "\n",
       "    .dataframe thead th {\n",
       "        text-align: right;\n",
       "    }\n",
       "</style>\n",
       "<table border=\"1\" class=\"dataframe\">\n",
       "  <thead>\n",
       "    <tr style=\"text-align: right;\">\n",
       "      <th></th>\n",
       "      <th>fr_ma_rech90</th>\n",
       "      <th>sumamnt_ma_rech90</th>\n",
       "      <th>medianamnt_ma_rech90</th>\n",
       "      <th>medianmarechprebal90</th>\n",
       "      <th>cnt_da_rech30</th>\n",
       "      <th>fr_da_rech30</th>\n",
       "      <th>cnt_da_rech90</th>\n",
       "      <th>fr_da_rech90</th>\n",
       "      <th>cnt_loans30</th>\n",
       "      <th>amnt_loans30</th>\n",
       "      <th>maxamnt_loans30</th>\n",
       "      <th>medianamnt_loans30</th>\n",
       "      <th>cnt_loans90</th>\n",
       "      <th>amnt_loans90</th>\n",
       "      <th>maxamnt_loans90</th>\n",
       "      <th>medianamnt_loans90</th>\n",
       "      <th>payback30</th>\n",
       "      <th>payback90</th>\n",
       "    </tr>\n",
       "  </thead>\n",
       "  <tbody>\n",
       "    <tr>\n",
       "      <th>count</th>\n",
       "      <td>66162.000000</td>\n",
       "      <td>66162.000000</td>\n",
       "      <td>66162.000000</td>\n",
       "      <td>66162.000000</td>\n",
       "      <td>66161.000000</td>\n",
       "      <td>66162.000000</td>\n",
       "      <td>66162.000000</td>\n",
       "      <td>66162.000000</td>\n",
       "      <td>66162.000000</td>\n",
       "      <td>66162.000000</td>\n",
       "      <td>66162.000000</td>\n",
       "      <td>66162.000000</td>\n",
       "      <td>66162.000000</td>\n",
       "      <td>66162.000000</td>\n",
       "      <td>66162.000000</td>\n",
       "      <td>66162.000000</td>\n",
       "      <td>66162.000000</td>\n",
       "      <td>66162.000000</td>\n",
       "    </tr>\n",
       "    <tr>\n",
       "      <th>mean</th>\n",
       "      <td>6.857532</td>\n",
       "      <td>9577.225537</td>\n",
       "      <td>1655.946873</td>\n",
       "      <td>79.571265</td>\n",
       "      <td>255.729672</td>\n",
       "      <td>3723.958554</td>\n",
       "      <td>0.040945</td>\n",
       "      <td>0.052356</td>\n",
       "      <td>2.345909</td>\n",
       "      <td>15.113449</td>\n",
       "      <td>271.572208</td>\n",
       "      <td>0.046031</td>\n",
       "      <td>17.601357</td>\n",
       "      <td>19.336447</td>\n",
       "      <td>6.555636</td>\n",
       "      <td>0.039955</td>\n",
       "      <td>3.064421</td>\n",
       "      <td>3.886278</td>\n",
       "    </tr>\n",
       "    <tr>\n",
       "      <th>std</th>\n",
       "      <td>12.451279</td>\n",
       "      <td>15419.159214</td>\n",
       "      <td>2068.987836</td>\n",
       "      <td>423.108048</td>\n",
       "      <td>4166.478397</td>\n",
       "      <td>53731.279262</td>\n",
       "      <td>0.425209</td>\n",
       "      <td>0.996636</td>\n",
       "      <td>2.273342</td>\n",
       "      <td>15.456410</td>\n",
       "      <td>4246.234504</td>\n",
       "      <td>0.199513</td>\n",
       "      <td>223.384485</td>\n",
       "      <td>23.504079</td>\n",
       "      <td>1.869852</td>\n",
       "      <td>0.184950</td>\n",
       "      <td>9.210743</td>\n",
       "      <td>10.636449</td>\n",
       "    </tr>\n",
       "    <tr>\n",
       "      <th>min</th>\n",
       "      <td>0.000000</td>\n",
       "      <td>0.000000</td>\n",
       "      <td>0.000000</td>\n",
       "      <td>-200.000000</td>\n",
       "      <td>0.000000</td>\n",
       "      <td>0.000000</td>\n",
       "      <td>0.000000</td>\n",
       "      <td>0.000000</td>\n",
       "      <td>0.000000</td>\n",
       "      <td>0.000000</td>\n",
       "      <td>0.000000</td>\n",
       "      <td>0.000000</td>\n",
       "      <td>0.000000</td>\n",
       "      <td>0.000000</td>\n",
       "      <td>0.000000</td>\n",
       "      <td>0.000000</td>\n",
       "      <td>0.000000</td>\n",
       "      <td>0.000000</td>\n",
       "    </tr>\n",
       "    <tr>\n",
       "      <th>25%</th>\n",
       "      <td>0.000000</td>\n",
       "      <td>947.000000</td>\n",
       "      <td>770.000000</td>\n",
       "      <td>5.150000</td>\n",
       "      <td>0.000000</td>\n",
       "      <td>0.000000</td>\n",
       "      <td>0.000000</td>\n",
       "      <td>0.000000</td>\n",
       "      <td>1.000000</td>\n",
       "      <td>6.000000</td>\n",
       "      <td>6.000000</td>\n",
       "      <td>0.000000</td>\n",
       "      <td>1.000000</td>\n",
       "      <td>6.000000</td>\n",
       "      <td>6.000000</td>\n",
       "      <td>0.000000</td>\n",
       "      <td>0.000000</td>\n",
       "      <td>0.000000</td>\n",
       "    </tr>\n",
       "    <tr>\n",
       "      <th>50%</th>\n",
       "      <td>1.000000</td>\n",
       "      <td>4617.000000</td>\n",
       "      <td>1156.000000</td>\n",
       "      <td>27.500000</td>\n",
       "      <td>0.000000</td>\n",
       "      <td>0.000000</td>\n",
       "      <td>0.000000</td>\n",
       "      <td>0.000000</td>\n",
       "      <td>1.000000</td>\n",
       "      <td>12.000000</td>\n",
       "      <td>6.000000</td>\n",
       "      <td>0.000000</td>\n",
       "      <td>2.000000</td>\n",
       "      <td>12.000000</td>\n",
       "      <td>6.000000</td>\n",
       "      <td>0.000000</td>\n",
       "      <td>0.000000</td>\n",
       "      <td>0.000000</td>\n",
       "    </tr>\n",
       "    <tr>\n",
       "      <th>75%</th>\n",
       "      <td>7.000000</td>\n",
       "      <td>11936.000000</td>\n",
       "      <td>1547.000000</td>\n",
       "      <td>68.000000</td>\n",
       "      <td>0.000000</td>\n",
       "      <td>0.000000</td>\n",
       "      <td>0.000000</td>\n",
       "      <td>0.000000</td>\n",
       "      <td>3.000000</td>\n",
       "      <td>18.000000</td>\n",
       "      <td>6.000000</td>\n",
       "      <td>0.000000</td>\n",
       "      <td>4.000000</td>\n",
       "      <td>24.000000</td>\n",
       "      <td>6.000000</td>\n",
       "      <td>0.000000</td>\n",
       "      <td>3.000000</td>\n",
       "      <td>3.777778</td>\n",
       "    </tr>\n",
       "    <tr>\n",
       "      <th>max</th>\n",
       "      <td>88.000000</td>\n",
       "      <td>953036.000000</td>\n",
       "      <td>55000.000000</td>\n",
       "      <td>41456.500000</td>\n",
       "      <td>99842.336330</td>\n",
       "      <td>999809.240100</td>\n",
       "      <td>30.000000</td>\n",
       "      <td>57.000000</td>\n",
       "      <td>36.000000</td>\n",
       "      <td>306.000000</td>\n",
       "      <td>99600.070140</td>\n",
       "      <td>2.000000</td>\n",
       "      <td>4946.011919</td>\n",
       "      <td>426.000000</td>\n",
       "      <td>12.000000</td>\n",
       "      <td>2.000000</td>\n",
       "      <td>170.000000</td>\n",
       "      <td>170.000000</td>\n",
       "    </tr>\n",
       "  </tbody>\n",
       "</table>\n",
       "</div>"
      ],
      "text/plain": [
       "       fr_ma_rech90  sumamnt_ma_rech90  medianamnt_ma_rech90  \\\n",
       "count  66162.000000       66162.000000          66162.000000   \n",
       "mean       6.857532        9577.225537           1655.946873   \n",
       "std       12.451279       15419.159214           2068.987836   \n",
       "min        0.000000           0.000000              0.000000   \n",
       "25%        0.000000         947.000000            770.000000   \n",
       "50%        1.000000        4617.000000           1156.000000   \n",
       "75%        7.000000       11936.000000           1547.000000   \n",
       "max       88.000000      953036.000000          55000.000000   \n",
       "\n",
       "       medianmarechprebal90  cnt_da_rech30   fr_da_rech30  cnt_da_rech90  \\\n",
       "count          66162.000000   66161.000000   66162.000000   66162.000000   \n",
       "mean              79.571265     255.729672    3723.958554       0.040945   \n",
       "std              423.108048    4166.478397   53731.279262       0.425209   \n",
       "min             -200.000000       0.000000       0.000000       0.000000   \n",
       "25%                5.150000       0.000000       0.000000       0.000000   \n",
       "50%               27.500000       0.000000       0.000000       0.000000   \n",
       "75%               68.000000       0.000000       0.000000       0.000000   \n",
       "max            41456.500000   99842.336330  999809.240100      30.000000   \n",
       "\n",
       "       fr_da_rech90   cnt_loans30  amnt_loans30  maxamnt_loans30  \\\n",
       "count  66162.000000  66162.000000  66162.000000     66162.000000   \n",
       "mean       0.052356      2.345909     15.113449       271.572208   \n",
       "std        0.996636      2.273342     15.456410      4246.234504   \n",
       "min        0.000000      0.000000      0.000000         0.000000   \n",
       "25%        0.000000      1.000000      6.000000         6.000000   \n",
       "50%        0.000000      1.000000     12.000000         6.000000   \n",
       "75%        0.000000      3.000000     18.000000         6.000000   \n",
       "max       57.000000     36.000000    306.000000     99600.070140   \n",
       "\n",
       "       medianamnt_loans30   cnt_loans90  amnt_loans90  maxamnt_loans90  \\\n",
       "count        66162.000000  66162.000000  66162.000000     66162.000000   \n",
       "mean             0.046031     17.601357     19.336447         6.555636   \n",
       "std              0.199513    223.384485     23.504079         1.869852   \n",
       "min              0.000000      0.000000      0.000000         0.000000   \n",
       "25%              0.000000      1.000000      6.000000         6.000000   \n",
       "50%              0.000000      2.000000     12.000000         6.000000   \n",
       "75%              0.000000      4.000000     24.000000         6.000000   \n",
       "max              2.000000   4946.011919    426.000000        12.000000   \n",
       "\n",
       "       medianamnt_loans90     payback30     payback90  \n",
       "count        66162.000000  66162.000000  66162.000000  \n",
       "mean             0.039955      3.064421      3.886278  \n",
       "std              0.184950      9.210743     10.636449  \n",
       "min              0.000000      0.000000      0.000000  \n",
       "25%              0.000000      0.000000      0.000000  \n",
       "50%              0.000000      0.000000      0.000000  \n",
       "75%              0.000000      3.000000      3.777778  \n",
       "max              2.000000    170.000000    170.000000  "
      ]
     },
     "execution_count": 47,
     "metadata": {},
     "output_type": "execute_result"
    }
   ],
   "source": [
    "x.iloc[:,15:].describe()"
   ]
  },
  {
   "cell_type": "code",
   "execution_count": 48,
   "metadata": {},
   "outputs": [],
   "source": [
    "corr_matrix=x.corr()['label'].drop('label').sort_values()"
   ]
  },
  {
   "cell_type": "code",
   "execution_count": 49,
   "metadata": {},
   "outputs": [
    {
     "data": {
      "text/plain": [
       "medianmarechprebal30   -0.009502\n",
       "fr_da_rech90           -0.005684\n",
       "aon                    -0.003021\n",
       "fr_da_rech30           -0.000441\n",
       "maxamnt_loans30        -0.000057\n",
       "fr_ma_rech30            0.001380\n",
       "last_rech_date_da       0.002041\n",
       "cnt_da_rech90           0.004958\n",
       "cnt_loans90             0.006871\n",
       "cnt_da_rech30           0.006899\n",
       "last_rech_date_ma       0.007559\n",
       "medianmarechprebal90    0.049634\n",
       "medianamnt_loans90      0.056294\n",
       "payback90               0.068981\n",
       "payback30               0.069685\n",
       "medianamnt_loans30      0.071933\n",
       "rental30                0.090243\n",
       "rental90                0.121018\n",
       "fr_ma_rech90            0.126912\n",
       "maxamnt_loans90         0.138946\n",
       "medianamnt_ma_rech90    0.178835\n",
       "last_rech_amt_ma        0.200307\n",
       "medianamnt_ma_rech30    0.213293\n",
       "daily_decr90            0.283214\n",
       "daily_decr30            0.285683\n",
       "sumamnt_ma_rech30       0.318729\n",
       "cnt_loans30             0.325367\n",
       "amnt_loans30            0.326491\n",
       "amnt_loans90            0.333558\n",
       "sumamnt_ma_rech90       0.333958\n",
       "cnt_ma_rech30           0.385891\n",
       "cnt_ma_rech90           0.386197\n",
       "Name: label, dtype: float64"
      ]
     },
     "execution_count": 49,
     "metadata": {},
     "output_type": "execute_result"
    }
   ],
   "source": [
    "corr_matrix"
   ]
  },
  {
   "cell_type": "code",
   "execution_count": 50,
   "metadata": {},
   "outputs": [
    {
     "data": {
      "text/plain": [
       "(66162, 24)"
      ]
     },
     "execution_count": 50,
     "metadata": {},
     "output_type": "execute_result"
    }
   ],
   "source": [
    "features_to_drop=['label','fr_da_rech30','maxamnt_loans30','fr_ma_rech30','last_rech_date_da','cnt_da_rech90','last_rech_date_ma','cnt_da_rech30','cnt_loans90']\n",
    "x=x.drop(labels=features_to_drop,axis=1)\n",
    "x.shape"
   ]
  },
  {
   "cell_type": "code",
   "execution_count": 51,
   "metadata": {},
   "outputs": [
    {
     "name": "stdout",
     "output_type": "stream",
     "text": [
      "(52929, 24) (13233, 24) (52929,) (13233,)\n"
     ]
    }
   ],
   "source": [
    "from sklearn.model_selection import train_test_split\n",
    "X_train,X_test,Y_train,Y_test=train_test_split(x,y,test_size=0.2)\n",
    "print(X_train.shape,X_test.shape,Y_train.shape,Y_test.shape)"
   ]
  },
  {
   "cell_type": "markdown",
   "metadata": {},
   "source": [
    "## training data"
   ]
  },
  {
   "cell_type": "code",
   "execution_count": 59,
   "metadata": {},
   "outputs": [
    {
     "data": {
      "text/plain": [
       "Pipeline(memory=None,\n",
       "         steps=[('scale', MinMaxScaler(copy=True, feature_range=(-1, 1))),\n",
       "                ('lr',\n",
       "                 LogisticRegression(C=1.0, class_weight=None, dual=False,\n",
       "                                    fit_intercept=True, intercept_scaling=1,\n",
       "                                    l1_ratio=None, max_iter=1000,\n",
       "                                    multi_class='auto', n_jobs=None,\n",
       "                                    penalty='l2', random_state=None,\n",
       "                                    solver='lbfgs', tol=0.0001, verbose=0,\n",
       "                                    warm_start=False))],\n",
       "         verbose=False)"
      ]
     },
     "execution_count": 59,
     "metadata": {},
     "output_type": "execute_result"
    }
   ],
   "source": [
    "from sklearn.linear_model import LogisticRegression\n",
    "from sklearn import svm\n",
    "from sklearn.pipeline import Pipeline\n",
    "from sklearn.preprocessing import MinMaxScaler\n",
    "from sklearn.model_selection import cross_val_score,ShuffleSplit,cross_val_predict\n",
    "scaler = MinMaxScaler(feature_range=(-1,1)) \n",
    "\n",
    "#lr=svm.SVC(kernel='linear', C=1)\n",
    "lr=LogisticRegression(C=1.0,max_iter=1000)\n",
    "pipeline = Pipeline([('scale',scaler), ('lr', lr),])\n",
    "pipeline.fit(X_train, Y_train)"
   ]
  },
  {
   "cell_type": "code",
   "execution_count": 60,
   "metadata": {},
   "outputs": [
    {
     "name": "stdout",
     "output_type": "stream",
     "text": [
      "Training accuracy: 0.7620\n",
      "Training f-1 score: 0.8032\n"
     ]
    }
   ],
   "source": [
    "print('Training accuracy: %.4f' % pipeline.score(X_train, Y_train))\n",
    "from sklearn.metrics import f1_score\n",
    "print ('Training f-1 score: %.4f' % f1_score(y, pipeline.predict(x)))"
   ]
  },
  {
   "cell_type": "markdown",
   "metadata": {},
   "source": [
    "# cross validation score"
   ]
  },
  {
   "cell_type": "code",
   "execution_count": 61,
   "metadata": {},
   "outputs": [
    {
     "name": "stdout",
     "output_type": "stream",
     "text": [
      "Accuracy: 0.76 (+/- 0.01)\n"
     ]
    }
   ],
   "source": [
    "cv = ShuffleSplit(n_splits=5, test_size=0.2, random_state=123)\n",
    "scores = cross_val_score(pipeline, x, y, cv=cv)\n",
    "print (\"Accuracy: %0.2f (+/- %0.2f)\" % (scores.mean(), scores.std() * 2))"
   ]
  },
  {
   "cell_type": "markdown",
   "metadata": {},
   "source": [
    "# confusion matrix"
   ]
  },
  {
   "cell_type": "code",
   "execution_count": 62,
   "metadata": {},
   "outputs": [
    {
     "data": {
      "text/html": [
       "<div>\n",
       "<style scoped>\n",
       "    .dataframe tbody tr th:only-of-type {\n",
       "        vertical-align: middle;\n",
       "    }\n",
       "\n",
       "    .dataframe tbody tr th {\n",
       "        vertical-align: top;\n",
       "    }\n",
       "\n",
       "    .dataframe thead th {\n",
       "        text-align: right;\n",
       "    }\n",
       "</style>\n",
       "<table border=\"1\" class=\"dataframe\">\n",
       "  <thead>\n",
       "    <tr style=\"text-align: right;\">\n",
       "      <th></th>\n",
       "      <th>0</th>\n",
       "      <th>1</th>\n",
       "    </tr>\n",
       "  </thead>\n",
       "  <tbody>\n",
       "    <tr>\n",
       "      <th>0</th>\n",
       "      <td>14665</td>\n",
       "      <td>6317</td>\n",
       "    </tr>\n",
       "    <tr>\n",
       "      <th>1</th>\n",
       "      <td>6282</td>\n",
       "      <td>25665</td>\n",
       "    </tr>\n",
       "  </tbody>\n",
       "</table>\n",
       "</div>"
      ],
      "text/plain": [
       "       0      1\n",
       "0  14665   6317\n",
       "1   6282  25665"
      ]
     },
     "execution_count": 62,
     "metadata": {},
     "output_type": "execute_result"
    }
   ],
   "source": [
    "from sklearn.metrics import confusion_matrix\n",
    "pd.DataFrame(confusion_matrix(Y_train, pipeline.predict(X_train)))"
   ]
  },
  {
   "cell_type": "markdown",
   "metadata": {},
   "source": [
    "# prediction"
   ]
  },
  {
   "cell_type": "code",
   "execution_count": 63,
   "metadata": {},
   "outputs": [],
   "source": [
    "y_pred = pipeline.predict(X_test)"
   ]
  },
  {
   "cell_type": "code",
   "execution_count": 64,
   "metadata": {},
   "outputs": [
    {
     "name": "stdout",
     "output_type": "stream",
     "text": [
      "Testing accuracy: 76.2488\n"
     ]
    }
   ],
   "source": [
    "count=0\n",
    "for index in range(len(y_pred)):\n",
    "    if y_pred[index]==Y_test.values[index]:\n",
    "        count+=1\n",
    "print('Testing accuracy: %.4f' % float(count/len(y_pred)*100))"
   ]
  },
  {
   "cell_type": "markdown",
   "metadata": {},
   "source": [
    "# pipeline.predict_proba can be used to pridict probability"
   ]
  },
  {
   "cell_type": "code",
   "execution_count": 67,
   "metadata": {},
   "outputs": [
    {
     "data": {
      "text/plain": [
       "array([[6.65574135e-01, 3.34425865e-01],\n",
       "       [9.10141439e-03, 9.90898586e-01],\n",
       "       [5.36516713e-01, 4.63483287e-01],\n",
       "       ...,\n",
       "       [7.33468512e-01, 2.66531488e-01],\n",
       "       [7.38072332e-01, 2.61927668e-01],\n",
       "       [2.58107531e-04, 9.99741892e-01]])"
      ]
     },
     "execution_count": 67,
     "metadata": {},
     "output_type": "execute_result"
    }
   ],
   "source": [
    "pipeline.predict_proba(X_test)"
   ]
  },
  {
   "cell_type": "code",
   "execution_count": null,
   "metadata": {
    "collapsed": true
   },
   "outputs": [],
   "source": []
  },
  {
   "cell_type": "code",
   "execution_count": null,
   "metadata": {
    "collapsed": true
   },
   "outputs": [],
   "source": []
  }
 ],
 "metadata": {
  "anaconda-cloud": {},
  "kernelspec": {
   "display_name": "Python 3",
   "language": "python",
   "name": "python3"
  },
  "language_info": {
   "codemirror_mode": {
    "name": "ipython",
    "version": 3
   },
   "file_extension": ".py",
   "mimetype": "text/x-python",
   "name": "python",
   "nbconvert_exporter": "python",
   "pygments_lexer": "ipython3",
   "version": "3.6.2"
  }
 },
 "nbformat": 4,
 "nbformat_minor": 1
}
